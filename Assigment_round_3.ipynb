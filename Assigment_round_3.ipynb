{
  "nbformat": 4,
  "nbformat_minor": 0,
  "metadata": {
    "colab": {
      "name": "Assigment round 3.ipynb",
      "provenance": [],
      "private_outputs": true,
      "collapsed_sections": [],
      "toc_visible": true
    },
    "kernelspec": {
      "name": "python3",
      "display_name": "Python 3"
    }
  },
  "cells": [
    {
      "cell_type": "code",
      "metadata": {
        "id": "UeAoxMtZ0zvE",
        "colab_type": "code",
        "colab": {}
      },
      "source": [
        "import numpy as np\n",
        "import pandas as pd\n",
        "from sklearn.preprocessing import PolynomialFeatures\n",
        "\n",
        "from sklearn.linear_model import LinearRegression\n",
        "from sklearn.model_selection import train_test_split\n",
        "\n",
        "import matplotlib.pyplot as plt\n",
        "\n",
        "import numpy as np \n",
        "import pandas as pd\n",
        "from sklearn.base import BaseEstimator, TransformerMixin\n",
        "from sklearn.preprocessing import OneHotEncoder, StandardScaler\n",
        "from sklearn.impute import SimpleImputer\n",
        "from sklearn.pipeline import FeatureUnion, Pipeline "
      ],
      "execution_count": 0,
      "outputs": []
    },
    {
      "cell_type": "markdown",
      "metadata": {
        "id": "W1gIRDwNvAz9",
        "colab_type": "text"
      },
      "source": [
        "## Lấy dữ liệu xuống thế nào?"
      ]
    },
    {
      "cell_type": "code",
      "metadata": {
        "id": "PHXo1Iezu2qX",
        "colab_type": "code",
        "colab": {}
      },
      "source": [
        "# Vì dữ liệu không có header nên để None\n",
        "data = pd.read_csv(\"http://cs.uit.edu.vn/data3.txt\",header = None)"
      ],
      "execution_count": 0,
      "outputs": []
    },
    {
      "cell_type": "code",
      "metadata": {
        "id": "a98cIdXB1Gyd",
        "colab_type": "code",
        "colab": {}
      },
      "source": [
        "# Phân dữ liệu dưới dạng ma trận\n",
        "X = data.values[:,0]\n",
        "Y = data.values[:,1:]"
      ],
      "execution_count": 0,
      "outputs": []
    },
    {
      "cell_type": "markdown",
      "metadata": {
        "id": "MCWGy3Nt1NNz",
        "colab_type": "text"
      },
      "source": [
        "Nhớ mount google drive\n"
      ]
    },
    {
      "cell_type": "markdown",
      "metadata": {
        "id": "Bfq5idLu1UC8",
        "colab_type": "text"
      },
      "source": [
        "/content/drive/My Drive/assignment/mymodel.joblib"
      ]
    },
    {
      "cell_type": "code",
      "metadata": {
        "id": "LOoT77421bic",
        "colab_type": "code",
        "colab": {}
      },
      "source": [
        "import pickle\n",
        "from joblib import dump, load"
      ],
      "execution_count": 0,
      "outputs": []
    },
    {
      "cell_type": "code",
      "metadata": {
        "id": "UPQCys4X1dre",
        "colab_type": "code",
        "colab": {}
      },
      "source": [
        "!wget \"https://github.com/doanthuyennt/Assignment-linear-model/blob/master/mymodel.joblib?raw=true\" -O mymodel.joblib"
      ],
      "execution_count": 0,
      "outputs": []
    },
    {
      "cell_type": "code",
      "metadata": {
        "id": "UTbMalFT2gA-",
        "colab_type": "code",
        "colab": {}
      },
      "source": [
        "model = load('mymodel.joblib')"
      ],
      "execution_count": 0,
      "outputs": []
    },
    {
      "cell_type": "code",
      "metadata": {
        "id": "7Su4t7Jj_ymR",
        "colab_type": "code",
        "colab": {}
      },
      "source": [
        "poly = PolynomialFeatures(degree=2,include_bias=True)\n",
        "X_trans_2th = poly.fit_transform(X.reshape(-1,1))\n",
        "\n",
        "model.score(X_trans_2th,Y)"
      ],
      "execution_count": 0,
      "outputs": []
    },
    {
      "cell_type": "code",
      "metadata": {
        "id": "QIgDp4N9NMzb",
        "colab_type": "code",
        "colab": {}
      },
      "source": [
        "X_trans_2th.shape,Y.shape"
      ],
      "execution_count": 0,
      "outputs": []
    },
    {
      "cell_type": "code",
      "metadata": {
        "id": "cBWGq7eL1Gga",
        "colab_type": "code",
        "colab": {}
      },
      "source": [
        "# import độ đo\n",
        "from sklearn.metrics import mean_squared_error\n"
      ],
      "execution_count": 0,
      "outputs": []
    },
    {
      "cell_type": "code",
      "metadata": {
        "id": "gWk1NMlt52o8",
        "colab_type": "code",
        "colab": {}
      },
      "source": [
        "class log_transform(BaseEstimator,TransformerMixin):\n",
        "  def __init__(self):\n",
        "    pass\n",
        "  def fit( self, X, y = None ):\n",
        "    return self\n",
        "  def transform(self, X, y = None):\n",
        "    poly = PolynomialFeatures(degree=2,include_bias=True)\n",
        "    X_trans_2th = poly.fit_transform(X.reshape(-1,1))\n",
        "    X_log = X * np.log(X)\n",
        "    return X_trans_2th"
      ],
      "execution_count": 0,
      "outputs": []
    },
    {
      "cell_type": "code",
      "metadata": {
        "id": "7g15LGyfCD0N",
        "colab_type": "code",
        "colab": {}
      },
      "source": [
        "def app(X,Y,model = None):\n",
        "    poly = PolynomialFeatures(degree=2,include_bias=True)\n",
        "    X_trans_2th = poly.fit_transform(X.reshape(-1,1))\n",
        "    if model ==None:\n",
        "     model = load('mymodel.joblib')\n",
        "    Y_pred = model.predict(X_trans_2th)\n",
        "    print(\"Model mean_squared_error on new datasets:\",mean_squared_error(Y,Y_pred))\n",
        "    print(\"Model score on new datasets:\",model.score(X_trans_2th,Y))"
      ],
      "execution_count": 0,
      "outputs": []
    },
    {
      "cell_type": "code",
      "metadata": {
        "id": "jEpr-5LtC4IA",
        "colab_type": "code",
        "colab": {}
      },
      "source": [
        "app(X,Y)"
      ],
      "execution_count": 0,
      "outputs": []
    },
    {
      "cell_type": "markdown",
      "metadata": {
        "id": "3UEZ4b74DSju",
        "colab_type": "text"
      },
      "source": [
        "Trả lời cho câu hỏi: Kết quả tốt hơn hay tệ hơn?\n",
        "- Thì model này cho kết tệ hơn!\n",
        "- Giải thích: Model đã lưu trên github đã thực hiện tăng feature rồi nên đã xảy ra hiện tượng overfitting trên datasets cũ. Vì thế  khi gặp datasets mới model không thực hiện hiệu quả.\n",
        "- Có thể là datasets mới này có quá nhiều nhiễu ... "
      ]
    },
    {
      "cell_type": "code",
      "metadata": {
        "id": "daLthw2JFxc-",
        "colab_type": "code",
        "colab": {}
      },
      "source": [
        "LNGR = model"
      ],
      "execution_count": 0,
      "outputs": []
    },
    {
      "cell_type": "code",
      "metadata": {
        "id": "fttE_QtCC5mS",
        "colab_type": "code",
        "colab": {}
      },
      "source": [
        "poly = PolynomialFeatures(degree=2,include_bias=True)\n",
        "X_trans_2th = poly.fit_transform(X.reshape(-1,1))\n",
        "\n",
        "plt.xlabel(data.columns[0])\n",
        "plt.ylabel(data.columns[1])\n",
        "plt.scatter(X,Y,marker='o',alpha=0.1)\n",
        "plt.plot(X,X_trans_2th.dot(LNGR.coef_[0]) + LNGR.intercept_ ,\"r\")"
      ],
      "execution_count": 0,
      "outputs": []
    },
    {
      "cell_type": "markdown",
      "metadata": {
        "id": "tVK-DwXxF385",
        "colab_type": "text"
      },
      "source": [
        "Đây: đường màu đỏ biểu diễn cho prediction của cả datasets3 dùng linear model của Round 2."
      ]
    },
    {
      "cell_type": "markdown",
      "metadata": {
        "id": "_39k0cqyH05w",
        "colab_type": "text"
      },
      "source": [
        "Trong khi đó trên data2"
      ]
    },
    {
      "cell_type": "code",
      "metadata": {
        "colab_type": "code",
        "id": "WSlDuFreGTR9",
        "colab": {}
      },
      "source": [
        "# Vì dữ liệu không có header nên để None\n",
        "data = pd.read_csv(\"http://cs.uit.edu.vn/data2.txt\",header = None)\n",
        "# Phân dữ liệu dưới dạng ma trận\n",
        "X = data.values[:,0]\n",
        "Y = data.values[:,1:]\n",
        "\n",
        "poly = PolynomialFeatures(degree=2,include_bias=True)\n",
        "X_trans_2th = poly.fit_transform(X.reshape(-1,1))\n",
        "\n",
        "plt.xlabel(data.columns[0])\n",
        "plt.ylabel(data.columns[1])\n",
        "plt.scatter(X,Y,marker='o',alpha=0.1)\n",
        "plt.plot(X,X_trans_2th.dot(LNGR.coef_[0]) + LNGR.intercept_ ,\"r\")"
      ],
      "execution_count": 0,
      "outputs": []
    },
    {
      "cell_type": "markdown",
      "metadata": {
        "id": "b7Wmi-zsIm8s",
        "colab_type": "text"
      },
      "source": [
        "Thử xây dựng lại lúc này chỉ dùng feature log"
      ]
    },
    {
      "cell_type": "code",
      "metadata": {
        "id": "RmyJW-zDH5EU",
        "colab_type": "code",
        "colab": {}
      },
      "source": [
        "data = pd.read_csv(\"http://cs.uit.edu.vn/data2.txt\",header = None)\n",
        "X = data.values[:,0]\n",
        "Y = data.values[:,1:]\n",
        "X_log = X*np.log(X)\n",
        "\n",
        "X_trans_2th = poly.fit_transform(X.reshape(-1,1))\n",
        "\n",
        "X_ = np.hstack((X.reshape(-1,1),X_log.reshape(-1,1)))\n",
        "new_model = LinearRegression().fit(X_,Y)"
      ],
      "execution_count": 0,
      "outputs": []
    },
    {
      "cell_type": "code",
      "metadata": {
        "id": "4lvISMyXKZw9",
        "colab_type": "code",
        "colab": {}
      },
      "source": [
        "Y_pred = new_model.predict(X_)\n",
        "print(\"Model mean_squared_error on new datasets:\",mean_squared_error(Y,Y_pred))\n",
        "print(\"Model score on new datasets:\",new_model.score(X_,Y))"
      ],
      "execution_count": 0,
      "outputs": []
    },
    {
      "cell_type": "code",
      "metadata": {
        "id": "-p-cmEa9Mqch",
        "colab_type": "code",
        "colab": {}
      },
      "source": [
        "X_.shape,Y.shape"
      ],
      "execution_count": 0,
      "outputs": []
    },
    {
      "cell_type": "code",
      "metadata": {
        "id": "xCUYl75QK_mM",
        "colab_type": "code",
        "colab": {}
      },
      "source": [
        "plt.xlabel(data.columns[0])\n",
        "plt.ylabel(data.columns[1])\n",
        "plt.scatter(X,Y,marker='o',alpha=0.1)\n",
        "plt.plot(X,X_.dot(new_model.coef_[0]) + new_model.intercept_ ,\"r\")"
      ],
      "execution_count": 0,
      "outputs": []
    },
    {
      "cell_type": "code",
      "metadata": {
        "id": "E6Pqp3BiJKZa",
        "colab_type": "code",
        "colab": {}
      },
      "source": [
        "def app(X,Y,model = None):\n",
        "    X_log = X*np.log(X)\n",
        "    X_ = np.hstack((X.reshape(-1,1),X_log.reshape(-1,1)))\n",
        "    if model ==None:\n",
        "     model = load('mymodel.joblib')\n",
        "    Y_pred = model.predict(X_)\n",
        "    print(\"Model mean_squared_error on new datasets:\",mean_squared_error(Y,Y_pred))\n",
        "    print(\"Model score on new datasets:\",model.score(X_,Y))"
      ],
      "execution_count": 0,
      "outputs": []
    },
    {
      "cell_type": "code",
      "metadata": {
        "id": "XmZ4f3s4I8t0",
        "colab_type": "code",
        "colab": {}
      },
      "source": [
        "data = pd.read_csv(\"http://cs.uit.edu.vn/data3.txt\",header = None)\n",
        "X = data.values[:,0]\n",
        "Y = data.values[:,1:]\n",
        "\n",
        "app(X,Y,new_model)"
      ],
      "execution_count": 0,
      "outputs": []
    },
    {
      "cell_type": "code",
      "metadata": {
        "id": "fEDveQgMJW2w",
        "colab_type": "code",
        "colab": {}
      },
      "source": [
        "X.shape,Y.shape"
      ],
      "execution_count": 0,
      "outputs": []
    },
    {
      "cell_type": "markdown",
      "metadata": {
        "id": "jEkht0niNhLu",
        "colab_type": "text"
      },
      "source": [
        "Kết luận: model thực hiện lần này có vẻ tốt hơn trên 2 datasets data2 và data3.\n",
        "-> lưu lại đưa lên github."
      ]
    },
    {
      "cell_type": "code",
      "metadata": {
        "id": "pAIiPhi6NWt1",
        "colab_type": "code",
        "colab": {}
      },
      "source": [
        "import pickle\n",
        "s = pickle.dumps(LNGr)\n",
        "\n",
        "from joblib import dump, load\n",
        "dump(new_model,'new_model.joblib') "
      ],
      "execution_count": 0,
      "outputs": []
    },
    {
      "cell_type": "code",
      "metadata": {
        "id": "QfUXwSzjN_uf",
        "colab_type": "code",
        "colab": {}
      },
      "source": [
        ""
      ],
      "execution_count": 0,
      "outputs": []
    }
  ]
}