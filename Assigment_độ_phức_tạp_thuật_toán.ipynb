{
  "nbformat": 4,
  "nbformat_minor": 0,
  "metadata": {
    "colab": {
      "name": "Assigment độ phức tạp thuật toán",
      "provenance": []
    },
    "kernelspec": {
      "name": "python3",
      "display_name": "Python 3"
    }
  },
  "cells": [
    {
      "cell_type": "markdown",
      "metadata": {
        "id": "BCOBnGpou3Zb",
        "colab_type": "text"
      },
      "source": [
        "## Nhập các thư viện:"
      ]
    },
    {
      "cell_type": "code",
      "metadata": {
        "id": "8DScT-MEuz3P",
        "colab_type": "code",
        "colab": {}
      },
      "source": [
        "import numpy as np\n",
        "import pandas as pd\n",
        "from sklearn.preprocessing import PolynomialFeatures\n",
        "\n",
        "from sklearn.linear_model import LinearRegression\n",
        "from sklearn.model_selection import train_test_split\n",
        "\n",
        "import matplotlib.pyplot as plt"
      ],
      "execution_count": 0,
      "outputs": []
    },
    {
      "cell_type": "markdown",
      "metadata": {
        "id": "W1gIRDwNvAz9",
        "colab_type": "text"
      },
      "source": [
        "## Lấy dữ liệu xuống thế nào?"
      ]
    },
    {
      "cell_type": "code",
      "metadata": {
        "id": "PHXo1Iezu2qX",
        "colab_type": "code",
        "colab": {}
      },
      "source": [
        "# Vì dữ liệu không có header nên để None\n",
        "data = pd.read_csv(\"http://cs.uit.edu.vn/data2.txt\",header = None)"
      ],
      "execution_count": 0,
      "outputs": []
    },
    {
      "cell_type": "code",
      "metadata": {
        "id": "48CMgOPSu9Um",
        "colab_type": "code",
        "colab": {
          "base_uri": "https://localhost:8080/",
          "height": 197
        },
        "outputId": "b26cc152-a13e-4cce-cdc6-b1ce56a7eef0"
      },
      "source": [
        "data.head()"
      ],
      "execution_count": 39,
      "outputs": [
        {
          "output_type": "execute_result",
          "data": {
            "text/html": [
              "<div>\n",
              "<style scoped>\n",
              "    .dataframe tbody tr th:only-of-type {\n",
              "        vertical-align: middle;\n",
              "    }\n",
              "\n",
              "    .dataframe tbody tr th {\n",
              "        vertical-align: top;\n",
              "    }\n",
              "\n",
              "    .dataframe thead th {\n",
              "        text-align: right;\n",
              "    }\n",
              "</style>\n",
              "<table border=\"1\" class=\"dataframe\">\n",
              "  <thead>\n",
              "    <tr style=\"text-align: right;\">\n",
              "      <th></th>\n",
              "      <th>0</th>\n",
              "      <th>1</th>\n",
              "    </tr>\n",
              "  </thead>\n",
              "  <tbody>\n",
              "    <tr>\n",
              "      <th>0</th>\n",
              "      <td>6083695</td>\n",
              "      <td>0.521842</td>\n",
              "    </tr>\n",
              "    <tr>\n",
              "      <th>1</th>\n",
              "      <td>1954367</td>\n",
              "      <td>0.152648</td>\n",
              "    </tr>\n",
              "    <tr>\n",
              "      <th>2</th>\n",
              "      <td>3734185</td>\n",
              "      <td>0.298548</td>\n",
              "    </tr>\n",
              "    <tr>\n",
              "      <th>3</th>\n",
              "      <td>5839301</td>\n",
              "      <td>0.460480</td>\n",
              "    </tr>\n",
              "    <tr>\n",
              "      <th>4</th>\n",
              "      <td>6343427</td>\n",
              "      <td>0.527977</td>\n",
              "    </tr>\n",
              "  </tbody>\n",
              "</table>\n",
              "</div>"
            ],
            "text/plain": [
              "         0         1\n",
              "0  6083695  0.521842\n",
              "1  1954367  0.152648\n",
              "2  3734185  0.298548\n",
              "3  5839301  0.460480\n",
              "4  6343427  0.527977"
            ]
          },
          "metadata": {
            "tags": []
          },
          "execution_count": 39
        }
      ]
    },
    {
      "cell_type": "code",
      "metadata": {
        "id": "SrMkBGvmvCo2",
        "colab_type": "code",
        "colab": {
          "base_uri": "https://localhost:8080/",
          "height": 197
        },
        "outputId": "af488fa4-5bbe-4e78-a7ae-44e79c919cfe"
      },
      "source": [
        "# Thay đổi tên cột của DataFrame để dễ hiểu\n",
        "data.columns = [\"Input Size\",\"Times\"]\n",
        "data.head()"
      ],
      "execution_count": 40,
      "outputs": [
        {
          "output_type": "execute_result",
          "data": {
            "text/html": [
              "<div>\n",
              "<style scoped>\n",
              "    .dataframe tbody tr th:only-of-type {\n",
              "        vertical-align: middle;\n",
              "    }\n",
              "\n",
              "    .dataframe tbody tr th {\n",
              "        vertical-align: top;\n",
              "    }\n",
              "\n",
              "    .dataframe thead th {\n",
              "        text-align: right;\n",
              "    }\n",
              "</style>\n",
              "<table border=\"1\" class=\"dataframe\">\n",
              "  <thead>\n",
              "    <tr style=\"text-align: right;\">\n",
              "      <th></th>\n",
              "      <th>Input Size</th>\n",
              "      <th>Times</th>\n",
              "    </tr>\n",
              "  </thead>\n",
              "  <tbody>\n",
              "    <tr>\n",
              "      <th>0</th>\n",
              "      <td>6083695</td>\n",
              "      <td>0.521842</td>\n",
              "    </tr>\n",
              "    <tr>\n",
              "      <th>1</th>\n",
              "      <td>1954367</td>\n",
              "      <td>0.152648</td>\n",
              "    </tr>\n",
              "    <tr>\n",
              "      <th>2</th>\n",
              "      <td>3734185</td>\n",
              "      <td>0.298548</td>\n",
              "    </tr>\n",
              "    <tr>\n",
              "      <th>3</th>\n",
              "      <td>5839301</td>\n",
              "      <td>0.460480</td>\n",
              "    </tr>\n",
              "    <tr>\n",
              "      <th>4</th>\n",
              "      <td>6343427</td>\n",
              "      <td>0.527977</td>\n",
              "    </tr>\n",
              "  </tbody>\n",
              "</table>\n",
              "</div>"
            ],
            "text/plain": [
              "   Input Size     Times\n",
              "0     6083695  0.521842\n",
              "1     1954367  0.152648\n",
              "2     3734185  0.298548\n",
              "3     5839301  0.460480\n",
              "4     6343427  0.527977"
            ]
          },
          "metadata": {
            "tags": []
          },
          "execution_count": 40
        }
      ]
    },
    {
      "cell_type": "markdown",
      "metadata": {
        "id": "CYXhZ5LWvjIG",
        "colab_type": "text"
      },
      "source": [
        "## Chọn model và train thế nào?"
      ]
    },
    {
      "cell_type": "code",
      "metadata": {
        "id": "wm_QahLzvN3D",
        "colab_type": "code",
        "colab": {
          "base_uri": "https://localhost:8080/",
          "height": 295
        },
        "outputId": "2e412668-2bfc-4fbb-a6d1-4ee5b838a1cc"
      },
      "source": [
        "# Sort lại dữ liệu và tham số inplace = True để nó lưu lại trên chính data\n",
        "data.sort_values(by = \"Input Size\",inplace= True)\n",
        "\n",
        "# Phân dữ liệu dưới dạng ma trận\n",
        "X = data.values[:,0]\n",
        "Y = data.values[:,1:]\n",
        "\n",
        "#Plot ra dữ liệu dạng scatter để dễ hình dung\n",
        "\n",
        "plt.xlabel(data.columns[0])\n",
        "plt.ylabel(data.columns[1])\n",
        "plt.scatter(X,Y,marker='o',alpha=0.1)"
      ],
      "execution_count": 41,
      "outputs": [
        {
          "output_type": "execute_result",
          "data": {
            "text/plain": [
              "<matplotlib.collections.PathCollection at 0x7f0a0ed22588>"
            ]
          },
          "metadata": {
            "tags": []
          },
          "execution_count": 41
        },
        {
          "output_type": "display_data",
          "data": {
            "image/png": "[encoded data removed]",
            "text/plain": [
              "<Figure size 432x288 with 1 Axes>"
            ]
          },
          "metadata": {
            "tags": [],
            "needs_background": "light"
          }
        }
      ]
    },
    {
      "cell_type": "code",
      "metadata": {
        "id": "XGpseKYgvnHq",
        "colab_type": "code",
        "colab": {}
      },
      "source": [
        "# Biển đổi thành ma trận lấy đặc trưng X và X^2 , (thử không kèm bias (toàn cột 1.00000))\n",
        "poly = PolynomialFeatures(degree=2,include_bias=True)\n",
        "X_trans_2th = poly.fit_transform(X.reshape(-1,1))"
      ],
      "execution_count": 0,
      "outputs": []
    },
    {
      "cell_type": "code",
      "metadata": {
        "id": "c4rRlftVvxWW",
        "colab_type": "code",
        "colab": {
          "base_uri": "https://localhost:8080/",
          "height": 33
        },
        "outputId": "2adf46e0-27c9-42e6-a89a-49ca8538146c"
      },
      "source": [
        "#Chiều của ma trận: để ý số hàng\n",
        "X_trans_2th.shape"
      ],
      "execution_count": 10,
      "outputs": [
        {
          "output_type": "execute_result",
          "data": {
            "text/plain": [
              "(71115, 3)"
            ]
          },
          "metadata": {
            "tags": []
          },
          "execution_count": 10
        }
      ]
    },
    {
      "cell_type": "code",
      "metadata": {
        "id": "nBQ4j-67vx5R",
        "colab_type": "code",
        "colab": {
          "base_uri": "https://localhost:8080/",
          "height": 295
        },
        "outputId": "4d3a79f9-0feb-4723-e7d1-98dd42a8f4af"
      },
      "source": [
        "# Tương tự ta plot lên dữ liệu:\n",
        "plt.xlabel(data.columns[0]+\"^2\")\n",
        "plt.ylabel(data.columns[1])\n",
        "plt.scatter(X_trans_2th[:,2],Y,marker='o',alpha=0.1)"
      ],
      "execution_count": 11,
      "outputs": [
        {
          "output_type": "execute_result",
          "data": {
            "text/plain": [
              "<matplotlib.collections.PathCollection at 0x7f0a0fda0b38>"
            ]
          },
          "metadata": {
            "tags": []
          },
          "execution_count": 11
        },
        {
          "output_type": "display_data",
          "data": {
            "image/png": "[encoded data removed]",
            "text/plain": [
              "<Figure size 432x288 with 1 Axes>"
            ]
          },
          "metadata": {
            "tags": [],
            "needs_background": "light"
          }
        }
      ]
    },
    {
      "cell_type": "markdown",
      "metadata": {
        "id": "W1OrSTMgv_8o",
        "colab_type": "text"
      },
      "source": [
        "### Chọn model"
      ]
    },
    {
      "cell_type": "markdown",
      "metadata": {
        "id": "xJ1LtGmdwFYi",
        "colab_type": "text"
      },
      "source": [
        "- Vì ta cần ước tính thời gian thực hiện nên ta dùng linear model:"
      ]
    },
    {
      "cell_type": "code",
      "metadata": {
        "id": "FfnMSpXCv2gO",
        "colab_type": "code",
        "colab": {
          "base_uri": "https://localhost:8080/",
          "height": 33
        },
        "outputId": "1146e656-8b29-4b94-d6d5-64210d188069"
      },
      "source": [
        "# Tạo model \n",
        "LNGr = LinearRegression()\n",
        "#Split dữ liệu\n",
        "X_train , X_test , y_train , y_test = train_test_split(X_trans_2th,Y,test_size = 0.3)\n",
        "\n",
        "# Fit model với dữ liệu train\n",
        "LNGr.fit(X_train,y_train)"
      ],
      "execution_count": 54,
      "outputs": [
        {
          "output_type": "execute_result",
          "data": {
            "text/plain": [
              "LinearRegression(copy_X=True, fit_intercept=True, n_jobs=None, normalize=False)"
            ]
          },
          "metadata": {
            "tags": []
          },
          "execution_count": 54
        }
      ]
    },
    {
      "cell_type": "code",
      "metadata": {
        "id": "dyqx07D24nUJ",
        "colab_type": "code",
        "colab": {}
      },
      "source": [
        "from sklearn.metrics import r2_score"
      ],
      "execution_count": 0,
      "outputs": []
    },
    {
      "cell_type": "code",
      "metadata": {
        "id": "k-nY6XAT45sl",
        "colab_type": "code",
        "colab": {}
      },
      "source": [
        "y_pred = LNGr.predict(X_test)"
      ],
      "execution_count": 0,
      "outputs": []
    },
    {
      "cell_type": "code",
      "metadata": {
        "id": "LG4iPgoh59of",
        "colab_type": "code",
        "colab": {
          "base_uri": "https://localhost:8080/",
          "height": 33
        },
        "outputId": "98c4bfe6-2199-4936-95a7-ddc031cbbbf7"
      },
      "source": [
        "r2_score(y_test,y_pred)"
      ],
      "execution_count": 57,
      "outputs": [
        {
          "output_type": "execute_result",
          "data": {
            "text/plain": [
              "0.9977741301351868"
            ]
          },
          "metadata": {
            "tags": []
          },
          "execution_count": 57
        }
      ]
    },
    {
      "cell_type": "code",
      "metadata": {
        "id": "0aO1_ryYwWgd",
        "colab_type": "code",
        "colab": {
          "base_uri": "https://localhost:8080/",
          "height": 33
        },
        "outputId": "9ca14b0c-3a8d-47ec-b590-b3db1354591c"
      },
      "source": [
        "print(\"Độ chính xác của model:\",LNGr.score(X_test,y_test))"
      ],
      "execution_count": 46,
      "outputs": [
        {
          "output_type": "stream",
          "text": [
            "Độ chính xác của model: 0.997977999641993\n"
          ],
          "name": "stdout"
        }
      ]
    },
    {
      "cell_type": "code",
      "metadata": {
        "id": "f8j0OvRXwayE",
        "colab_type": "code",
        "colab": {
          "base_uri": "https://localhost:8080/",
          "height": 50
        },
        "outputId": "15e3dc05-e2eb-49ad-9155-a47d4b46f443"
      },
      "source": [
        "# lấy hệ số ra\n",
        "print(\"Hệ số của model:\",LNGr.coef_)\n",
        "\n",
        "# Và bias\n",
        "print(\"Bias của model:\",LNGr.intercept_)"
      ],
      "execution_count": 15,
      "outputs": [
        {
          "output_type": "stream",
          "text": [
            "Hệ số của model: [[0.00000000e+00 7.85875745e-08 5.97214092e-16]]\n",
            "Bias của model: [-0.00592727]\n"
          ],
          "name": "stdout"
        }
      ]
    },
    {
      "cell_type": "code",
      "metadata": {
        "id": "Vq16t1vfwpnn",
        "colab_type": "code",
        "colab": {
          "base_uri": "https://localhost:8080/",
          "height": 295
        },
        "outputId": "226df2d8-80f9-4f38-aa58-1393221123e1"
      },
      "source": [
        "plt.xlabel(data.columns[0])\n",
        "plt.ylabel(data.columns[1])\n",
        "plt.scatter(X,Y,marker='o',alpha=0.1)\n",
        "\n",
        "plt.plot(X,X*LNGr.coef_[0][1] + X*LNGr.coef_[0][2] +LNGr.intercept_ ,\"r\")"
      ],
      "execution_count": 16,
      "outputs": [
        {
          "output_type": "execute_result",
          "data": {
            "text/plain": [
              "[<matplotlib.lines.Line2D at 0x7f0a0fd55ef0>]"
            ]
          },
          "metadata": {
            "tags": []
          },
          "execution_count": 16
        },
        {
          "output_type": "display_data",
          "data": {
            "image/png": "[encoded data removed]",
            "text/plain": [
              "<Figure size 432x288 with 1 Axes>"
            ]
          },
          "metadata": {
            "tags": [],
            "needs_background": "light"
          }
        }
      ]
    },
    {
      "cell_type": "markdown",
      "metadata": {
        "id": "TxmU5-sxw6JW",
        "colab_type": "text"
      },
      "source": [
        "### Thử thêm feature X*np.log(X):"
      ]
    },
    {
      "cell_type": "code",
      "metadata": {
        "id": "JVEAWBXvw2lN",
        "colab_type": "code",
        "colab": {}
      },
      "source": [
        "X_log = X * np.log(X)"
      ],
      "execution_count": 0,
      "outputs": []
    },
    {
      "cell_type": "code",
      "metadata": {
        "id": "1lI67iiVw8x8",
        "colab_type": "code",
        "colab": {}
      },
      "source": [
        "# stack : chồng dữ liệu lên theo chiều dọc : hstack axis = 1\n",
        "X_ = np.hstack((X_trans_2th,X_log.reshape(-1,1)))"
      ],
      "execution_count": 0,
      "outputs": []
    },
    {
      "cell_type": "code",
      "metadata": {
        "id": "cm_nw-OFw-WH",
        "colab_type": "code",
        "colab": {
          "base_uri": "https://localhost:8080/",
          "height": 66
        },
        "outputId": "c1a43773-ca4f-4a28-b116-a08b06985bd9"
      },
      "source": [
        "%%time\n",
        "LNGr = LinearRegression()\n",
        "X_train , X_test , y_train , y_test = train_test_split(X_,Y,test_size = 0.3)\n",
        "LNGr.fit(X_train,y_train)\n",
        "print(\"Score:\",LNGr.score(X_test,y_test))\n"
      ],
      "execution_count": 19,
      "outputs": [
        {
          "output_type": "stream",
          "text": [
            "Score: 0.997977999641993\n",
            "CPU times: user 15.7 ms, sys: 2.91 ms, total: 18.6 ms\n",
            "Wall time: 17.5 ms\n"
          ],
          "name": "stdout"
        }
      ]
    },
    {
      "cell_type": "code",
      "metadata": {
        "id": "73mbOyr6w_5q",
        "colab_type": "code",
        "colab": {
          "base_uri": "https://localhost:8080/",
          "height": 312
        },
        "outputId": "12dc8c64-4399-479b-9598-eab00abf4ed9"
      },
      "source": [
        "%%time\n",
        "plt.xlabel(data.columns[0])\n",
        "plt.ylabel(data.columns[1])\n",
        "plt.scatter(X,Y,marker='o',alpha=0.1)\n",
        "plt.plot(X,X*LNGr.coef_[0][1]+ X*X*LNGr.coef_[0][2] + X*np.log(X) * LNGr.coef_[0][3] +LNGr.intercept_ ,\"r\")"
      ],
      "execution_count": 20,
      "outputs": [
        {
          "output_type": "stream",
          "text": [
            "CPU times: user 44.2 ms, sys: 27.7 ms, total: 72 ms\n",
            "Wall time: 45.2 ms\n"
          ],
          "name": "stdout"
        },
        {
          "output_type": "display_data",
          "data": {
            "image/png": "[encoded data removed]",
            "text/plain": [
              "<Figure size 432x288 with 1 Axes>"
            ]
          },
          "metadata": {
            "tags": [],
            "needs_background": "light"
          }
        }
      ]
    },
    {
      "cell_type": "markdown",
      "metadata": {
        "id": "CoPmWQxAxhkC",
        "colab_type": "text"
      },
      "source": [
        "- Lưu lại model"
      ]
    },
    {
      "cell_type": "code",
      "metadata": {
        "id": "ObHhAs3DxhFG",
        "colab_type": "code",
        "colab": {
          "base_uri": "https://localhost:8080/",
          "height": 33
        },
        "outputId": "05ee7340-7d29-4f9e-967f-aeaa32f36c5d"
      },
      "source": [
        "import pickle\n",
        "s = pickle.dumps(LNGr)\n",
        "\n",
        "from joblib import dump, load\n",
        "dump(LNGr, '/content/drive/My Drive/assignment/mymodel.joblib') "
      ],
      "execution_count": 36,
      "outputs": [
        {
          "output_type": "execute_result",
          "data": {
            "text/plain": [
              "['/content/drive/My Drive/assignment/mymodel.joblib']"
            ]
          },
          "metadata": {
            "tags": []
          },
          "execution_count": 36
        }
      ]
    },
    {
      "cell_type": "markdown",
      "metadata": {
        "id": "_M8mpLw0zvuc",
        "colab_type": "text"
      },
      "source": [
        "## Tạo ứng dụng:"
      ]
    },
    {
      "cell_type": "code",
      "metadata": {
        "id": "o3Jin71fx3Cx",
        "colab_type": "code",
        "colab": {}
      },
      "source": [
        "import numpy as np \n",
        "import pandas as pd\n",
        "from sklearn.base import BaseEstimator, TransformerMixin\n",
        "from sklearn.preprocessing import OneHotEncoder, StandardScaler\n",
        "from sklearn.impute import SimpleImputer\n",
        "from sklearn.pipeline import FeatureUnion, Pipeline "
      ],
      "execution_count": 0,
      "outputs": []
    },
    {
      "cell_type": "code",
      "metadata": {
        "id": "8_VxnAhW0TOF",
        "colab_type": "code",
        "colab": {}
      },
      "source": [
        "y = Y"
      ],
      "execution_count": 0,
      "outputs": []
    },
    {
      "cell_type": "code",
      "metadata": {
        "id": "AR4cVXI7xZi4",
        "colab_type": "code",
        "colab": {}
      },
      "source": [
        "class log_transform(BaseEstimator,TransformerMixin):\n",
        "  def __init__(self):\n",
        "    self.X = X\n",
        "    self.y = y\n",
        "  def fit( self, X, y = None ):\n",
        "    return self\n",
        "  def transform(self, X, y = None):\n",
        "    return (X * np.log(X))"
      ],
      "execution_count": 0,
      "outputs": []
    },
    {
      "cell_type": "code",
      "metadata": {
        "id": "foOo1NKWxbTb",
        "colab_type": "code",
        "colab": {
          "base_uri": "https://localhost:8080/",
          "height": 116
        },
        "outputId": "f3b425c9-9122-4300-8c8f-c5b81db8f793"
      },
      "source": [
        "my_pipeline = Pipeline( steps = [(\"my_transform\",log_transform()),(\"linear\",load('mymodel.joblib'))])\n",
        "\n",
        "my_pipeline.fit(X.reshape(-1,1),y)"
      ],
      "execution_count": 35,
      "outputs": [
        {
          "output_type": "execute_result",
          "data": {
            "text/plain": [
              "Pipeline(memory=None,\n",
              "         steps=[('my_transform', log_transform()),\n",
              "                ('linear',\n",
              "                 LinearRegression(copy_X=True, fit_intercept=True, n_jobs=None,\n",
              "                                  normalize=False))],\n",
              "         verbose=False)"
            ]
          },
          "metadata": {
            "tags": []
          },
          "execution_count": 35
        }
      ]
    },
    {
      "cell_type": "code",
      "metadata": {
        "id": "l2IYV4PMxdc4",
        "colab_type": "code",
        "colab": {}
      },
      "source": [
        ""
      ],
      "execution_count": 0,
      "outputs": []
    }
  ]
}