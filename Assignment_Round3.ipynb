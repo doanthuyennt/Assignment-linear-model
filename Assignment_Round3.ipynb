{
  "nbformat": 4,
  "nbformat_minor": 0,
  "metadata": {
    "colab": {
      "name": "Assignment Round3.ipynb",
      "provenance": [],
      "collapsed_sections": [],
      "toc_visible": true
    },
    "kernelspec": {
      "name": "python3",
      "display_name": "Python 3"
    }
  },
  "cells": [
    {
      "cell_type": "code",
      "metadata": {
        "id": "8DScT-MEuz3P",
        "colab_type": "code",
        "colab": {}
      },
      "source": [
        "import numpy as np\n",
        "import pandas as pd\n",
        "from sklearn.preprocessing import PolynomialFeatures\n",
        "\n",
        "from sklearn.linear_model import LinearRegression\n",
        "from sklearn.model_selection import train_test_split\n",
        "\n",
        "import matplotlib.pyplot as plt\n",
        "\n",
        "import numpy as np \n",
        "import pandas as pd\n",
        "from sklearn.base import BaseEstimator, TransformerMixin\n",
        "from sklearn.preprocessing import OneHotEncoder, StandardScaler\n",
        "from sklearn.impute import SimpleImputer\n",
        "from sklearn.pipeline import FeatureUnion, Pipeline "
      ],
      "execution_count": 0,
      "outputs": []
    },
    {
      "cell_type": "markdown",
      "metadata": {
        "id": "W1gIRDwNvAz9",
        "colab_type": "text"
      },
      "source": [
        "## Lấy dữ liệu xuống thế nào?"
      ]
    },
    {
      "cell_type": "code",
      "metadata": {
        "id": "PHXo1Iezu2qX",
        "colab_type": "code",
        "colab": {}
      },
      "source": [
        "# Vì dữ liệu không có header nên để None\n",
        "data = pd.read_csv(\"http://cs.uit.edu.vn/data3.txt\",header = None)"
      ],
      "execution_count": 0,
      "outputs": []
    },
    {
      "cell_type": "code",
      "metadata": {
        "id": "a98cIdXB1Gyd",
        "colab_type": "code",
        "colab": {}
      },
      "source": [
        "# Phân dữ liệu dưới dạng ma trận\n",
        "X = data.values[:,0]\n",
        "Y = data.values[:,1:]"
      ],
      "execution_count": 0,
      "outputs": []
    },
    {
      "cell_type": "code",
      "metadata": {
        "id": "AR4cVXI7xZi4",
        "colab_type": "code",
        "colab": {}
      },
      "source": [
        "# Class biển đổi dữ liệu\n",
        "class log_transform(BaseEstimator,TransformerMixin):\n",
        "  def __init__(self):\n",
        "    self.X = X\n",
        "    self.y = Y\n",
        "  def fit( self, X, y = None ):\n",
        "    return self\n",
        "  def transform(self, X, y = None):\n",
        "    return (X * np.log(X))"
      ],
      "execution_count": 0,
      "outputs": []
    },
    {
      "cell_type": "markdown",
      "metadata": {
        "id": "MCWGy3Nt1NNz",
        "colab_type": "text"
      },
      "source": [
        "Nhớ mount google drive\n"
      ]
    },
    {
      "cell_type": "markdown",
      "metadata": {
        "id": "Bfq5idLu1UC8",
        "colab_type": "text"
      },
      "source": [
        "/content/drive/My Drive/assignment/mymodel.joblib"
      ]
    },
    {
      "cell_type": "code",
      "metadata": {
        "id": "LOoT77421bic",
        "colab_type": "code",
        "colab": {}
      },
      "source": [
        "import pickle\n",
        "from joblib import dump, load"
      ],
      "execution_count": 0,
      "outputs": []
    },
    {
      "cell_type": "code",
      "metadata": {
        "id": "foOo1NKWxbTb",
        "colab_type": "code",
        "outputId": "cc0d1f57-0b67-4bc2-b16d-6e7f591f5598",
        "colab": {
          "base_uri": "https://localhost:8080/",
          "height": 116
        }
      },
      "source": [
        "my_pipeline = Pipeline( steps = [(\"my_transform\",log_transform()),(\"linear\",load('/content/drive/My Drive/assignment/mymodel.joblib'))])\n",
        "\n",
        "# fit để biến đổi dữ liệu\n",
        "my_pipeline.fit(X.reshape(-1,1),Y)"
      ],
      "execution_count": 11,
      "outputs": [
        {
          "output_type": "execute_result",
          "data": {
            "text/plain": [
              "Pipeline(memory=None,\n",
              "         steps=[('my_transform', log_transform()),\n",
              "                ('linear',\n",
              "                 LinearRegression(copy_X=True, fit_intercept=True, n_jobs=None,\n",
              "                                  normalize=False))],\n",
              "         verbose=False)"
            ]
          },
          "metadata": {
            "tags": []
          },
          "execution_count": 11
        }
      ]
    },
    {
      "cell_type": "code",
      "metadata": {
        "id": "fXdbQOsY1Ltr",
        "colab_type": "code",
        "colab": {}
      },
      "source": [
        "from google.colab import drive\n",
        "drive.mount('/content/drive')"
      ],
      "execution_count": 0,
      "outputs": []
    },
    {
      "cell_type": "markdown",
      "metadata": {
        "id": "mteQYFRZ1rVv",
        "colab_type": "text"
      },
      "source": [
        "Score cho model"
      ]
    },
    {
      "cell_type": "code",
      "metadata": {
        "id": "ay2-nSVv0_Et",
        "colab_type": "code",
        "colab": {
          "base_uri": "https://localhost:8080/",
          "height": 33
        },
        "outputId": "3a26bb31-91c9-4e61-a429-c53f7391c83e"
      },
      "source": [
        "my_pipeline.score(X.reshape(-1,1),Y)"
      ],
      "execution_count": 15,
      "outputs": [
        {
          "output_type": "execute_result",
          "data": {
            "text/plain": [
              "0.9882116400896083"
            ]
          },
          "metadata": {
            "tags": []
          },
          "execution_count": 15
        }
      ]
    }
  ]
}